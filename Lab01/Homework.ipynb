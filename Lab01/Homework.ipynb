{
 "cells": [
  {
   "cell_type": "code",
   "execution_count": 1,
   "metadata": {},
   "outputs": [
    {
     "name": "stderr",
     "output_type": "stream",
     "text": [
      "Epoch 1 / 10: 100%|██████████| 1562/1562 [00:12<00:00, 122.12 mini batches/s]\n",
      "Epoch 2 / 10: 100%|██████████| 1562/1562 [00:12<00:00, 125.68 mini batches/s]\n",
      "Epoch 3 / 10: 100%|██████████| 1562/1562 [00:12<00:00, 127.13 mini batches/s]\n",
      "Epoch 4 / 10: 100%|██████████| 1562/1562 [00:12<00:00, 121.53 mini batches/s]\n",
      "Epoch 5 / 10: 100%|██████████| 1562/1562 [00:13<00:00, 115.01 mini batches/s]\n",
      "Epoch 6 / 10: 100%|██████████| 1562/1562 [00:17<00:00, 90.23 mini batches/s] \n",
      "Epoch 7 / 10: 100%|██████████| 1562/1562 [00:16<00:00, 94.61 mini batches/s] \n",
      "Epoch 8 / 10: 100%|██████████| 1562/1562 [00:14<00:00, 105.80 mini batches/s]\n",
      "Epoch 9 / 10: 100%|██████████| 1562/1562 [00:15<00:00, 101.49 mini batches/s]\n",
      "Epoch 10 / 10: 100%|██████████| 1562/1562 [00:13<00:00, 114.48 mini batches/s]\n"
     ]
    },
    {
     "name": "stdout",
     "output_type": "stream",
     "text": [
      "Training set:\n",
      "Correct: 49439, Wrong: 561, Total: 50000, Accuracy: 98.87%, Average Loss: 1.4846969842910767\n",
      "\n",
      "Testing set:\n",
      "Correct: 9748, Wrong: 252, Total: 10000, Accuracy: 97.48%, Average Loss: 1.4967738389968872\n",
      "\n",
      "Validation set:\n",
      "Correct: 9747, Wrong: 253, Total: 10000, Accuracy: 97.47%, Average Loss: 1.495571494102478\n",
      "\n"
     ]
    }
   ],
   "source": [
    "from Dataset import Dataset\n",
    "from Activations import Activations\n",
    "from NeuralNetwork import NeuralNetwork\n",
    "from Layer import Layer\n",
    "\n",
    "dataset = Dataset(\"mnist.pkl.gz\")\n",
    "    \n",
    "model = NeuralNetwork([\n",
    "        Layer(784, 100, Activations.get_activation_function(\"sigmoid\")),\n",
    "        Layer(100, 10, Activations.get_activation_function(\"softmax\"))\n",
    "    ])\n",
    "\n",
    "MAX_ITERATION = 10\n",
    "BATCH_SIZE = 32\n",
    "LEARNING_RATE = 0.5\n",
    "model.train_mini_batch(dataset.training_set, MAX_ITERATION, BATCH_SIZE, LEARNING_RATE)\n",
    "\n",
    "print('Training set:')\n",
    "model.test_model(dataset.training_set)\n",
    "\n",
    "print('Testing set:')\n",
    "model.test_model(dataset.testing_set)\n",
    "\n",
    "print('Validation set:')\n",
    "model.test_model(dataset.validation_set)"
   ]
  }
 ],
 "metadata": {
  "kernelspec": {
   "display_name": "Python 3",
   "language": "python",
   "name": "python3"
  },
  "language_info": {
   "codemirror_mode": {
    "name": "ipython",
    "version": 3
   },
   "file_extension": ".py",
   "mimetype": "text/x-python",
   "name": "python",
   "nbconvert_exporter": "python",
   "pygments_lexer": "ipython3",
   "version": "3.11.3"
  }
 },
 "nbformat": 4,
 "nbformat_minor": 2
}
